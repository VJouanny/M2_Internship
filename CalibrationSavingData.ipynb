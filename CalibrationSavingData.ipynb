{
 "cells": [
  {
   "cell_type": "markdown",
   "metadata": {},
   "source": [
    "# Saving data"
   ]
  },
  {
   "cell_type": "code",
   "execution_count": 1,
   "metadata": {},
   "outputs": [],
   "source": [
    "#Import classic modules\n",
    "# import numpy as np\n",
    "# import matplotlib.pyplot as plt\n",
    "import time\n",
    "\n",
    "\n",
    "import qcodes as qc\n",
    "from qcodes.logger.logger import start_all_logging\n",
    "from qcodes.dataset.plotting import plot_dataset\n",
    "\n",
    "import datetime\n",
    "import numpy as np\n",
    "import matplotlib.pyplot as plt\n",
    "from time import sleep\n",
    "\n",
    "\n",
    "%matplotlib inline\n",
    "#%matplotlib notebook"
   ]
  },
  {
   "cell_type": "code",
   "execution_count": 2,
   "metadata": {},
   "outputs": [
    {
     "name": "stdout",
     "output_type": "stream",
     "text": [
      "Connected to: REDPITAYA_IQ INSTR2018 (serial:0, firmware:01-02) in 0.30s\n"
     ]
    }
   ],
   "source": [
    "#Redpitaya\n",
    "\n",
    "# To import drivers from the folder 'C:\\QCodes drivers and scripts\\Drivers'\n",
    "import sys\n",
    "sys.path.append('C:/QCodes drivers and scripts/Drivers')\n",
    "\n",
    "#Import the RedPitaya drivers\n",
    "from redpitaya_qcodes_test import Redpitaya\n",
    "#from qcodes.instrument_drivers.RP_test.redpitaya_qcodes2 import Redpitaya\n",
    "RP = Redpitaya('Redpitaya', 'TCPIP::192.168.0.105::5001::SOCKET')"
   ]
  },
  {
   "cell_type": "code",
   "execution_count": 3,
   "metadata": {},
   "outputs": [
    {
     "name": "stdout",
     "output_type": "stream",
     "text": [
      "Connected to: Rohde&Schwarz SMB100A (serial:1406.6000k03/177960, firmware:3.1.18.2-3.01.203.32) in 0.02s\n"
     ]
    }
   ],
   "source": [
    "#Microwave source\n",
    "from RS_SMB_100A import SMB100A\n",
    "\n",
    "MW_source = SMB100A('SMB100A', 'TCPIP0::192.168.0.53::inst0::INSTR')#53 is the good one\n",
    "#MW_source_2 = SMB100A('SMB100A', 'TCPIP0::192.168.0.54::inst0::INSTR')"
   ]
  },
  {
   "cell_type": "markdown",
   "metadata": {},
   "source": [
    "\n",
    "## Creation of the Database"
   ]
  },
  {
   "cell_type": "code",
   "execution_count": 4,
   "metadata": {},
   "outputs": [
    {
     "name": "stdout",
     "output_type": "stream",
     "text": [
      "Logging hadn't been started.\n",
      "Activating auto-logging. Current session state plus future input saved.\n",
      "Filename       : C:\\Users\\nicolas.roch\\.qcodes\\logs\\command_history.log\n",
      "Mode           : append\n",
      "Output logging : True\n",
      "Raw input log  : False\n",
      "Timestamping   : True\n",
      "State          : active\n",
      "Qcodes Logfile : C:\\Users\\nicolas.roch\\.qcodes\\logs\\200415-23452-qcodes.log\n"
     ]
    }
   ],
   "source": [
    "start_all_logging()"
   ]
  },
  {
   "cell_type": "code",
   "execution_count": 5,
   "metadata": {},
   "outputs": [
    {
     "name": "stderr",
     "output_type": "stream",
     "text": [
      "2020-04-15 09:38:44,895 ¦ qcodes.instrument.base ¦ WARNING ¦ base ¦ snapshot_base ¦ 214 ¦ [Redpitaya(Redpitaya)] Snapshot: Could not update parameter: format_output\n",
      "2020-04-15 09:38:44,895 ¦ qcodes.instrument.base ¦ WARNING ¦ base ¦ snapshot_base ¦ 214 ¦ [Redpitaya(Redpitaya)] Snapshot: Could not update parameter: nb_measure\n",
      "2020-04-15 09:38:45,156 ¦ qcodes.instrument.base ¦ WARNING ¦ base ¦ snapshot_base ¦ 214 ¦ [Redpitaya(Redpitaya)] Snapshot: Could not update parameter: data_output\n",
      "2020-04-15 09:38:45,156 ¦ qcodes.instrument.base ¦ WARNING ¦ base ¦ snapshot_base ¦ 214 ¦ [Redpitaya(Redpitaya)] Snapshot: Could not update parameter: pulse_zero\n",
      "2020-04-15 09:38:45,156 ¦ qcodes.instrument.base ¦ WARNING ¦ base ¦ snapshot_base ¦ 214 ¦ [Redpitaya(Redpitaya)] Snapshot: Could not update parameter: length_time\n",
      "2020-04-15 09:38:45,156 ¦ qcodes.instrument.base ¦ WARNING ¦ base ¦ snapshot_base ¦ 214 ¦ [Redpitaya(Redpitaya)] Snapshot: Could not update parameter: pulse_axis\n",
      "2020-04-15 09:38:45,156 ¦ qcodes.instrument.base ¦ WARNING ¦ base ¦ snapshot_base ¦ 214 ¦ [Redpitaya(Redpitaya)] Snapshot: Could not update parameter: time_axis\n"
     ]
    },
    {
     "data": {
      "text/plain": [
       "{'Redpitaya': <Redpitaya: Redpitaya>, 'SMB100A': <SMB100A: SMB100A>}"
      ]
     },
     "execution_count": 5,
     "metadata": {},
     "output_type": "execute_result"
    }
   ],
   "source": [
    "#create a station\n",
    "#Error because of the new classes in the driver, but it's not too important\n",
    "station = qc.Station()\n",
    "station.add_component(RP)\n",
    "station.add_component(MW_source)\n",
    "station.snapshot()\n",
    "station.components"
   ]
  },
  {
   "cell_type": "code",
   "execution_count": 6,
   "metadata": {},
   "outputs": [
    {
     "name": "stdout",
     "output_type": "stream",
     "text": [
      "Upgrading database; v0 -> v1: : 0it [00:00, ?it/s]\n",
      "Upgrading database; v1 -> v2: 100%|█████████████████████████████████████████████████████| 1/1 [00:00<00:00, 100.36it/s]\n",
      "Upgrading database; v2 -> v3: : 0it [00:00, ?it/s]\n",
      "Upgrading database; v3 -> v4: : 0it [00:00, ?it/s]\n",
      "Upgrading database; v4 -> v5: 100%|██████████████████████████████████████████████████████████████| 1/1 [00:00<?, ?it/s]\n",
      "Upgrading database; v5 -> v6: : 0it [00:00, ?it/s]\n",
      "Upgrading database; v6 -> v7: 100%|██████████████████████████████████████████████████████| 1/1 [00:00<00:00, 16.62it/s]\n",
      "Upgrading database; v7 -> v8: 100%|██████████████████████████████████████████████████████████████| 1/1 [00:00<?, ?it/s]\n"
     ]
    },
    {
     "data": {
      "text/plain": [
       "'C:/Data_QCodes/2020-04-15_VJ_Calibration_Redpitaya_test'"
      ]
     },
     "execution_count": 6,
     "metadata": {},
     "output_type": "execute_result"
    }
   ],
   "source": [
    "#define the name of the database in a sensible way\n",
    "user = 'VJ'\n",
    "date = str(datetime.date.today())\n",
    "# date='2020-02-29'\n",
    "description = 'Calibration_Redpitaya_test'#'Through-device'#'STWPA_V03_10'\n",
    "database_name = date+\"_\"+user+\"_\"+description\n",
    "\n",
    "#Create or Initialize the database\n",
    "qc.initialise_or_create_database_at(\"C:/Data_QCodes/\"+database_name)\n",
    "\n",
    "#We can ask \"where is the database?\"\n",
    "qc.config.core.db_location"
   ]
  },
  {
   "cell_type": "code",
   "execution_count": 7,
   "metadata": {},
   "outputs": [
    {
     "name": "stdout",
     "output_type": "stream",
     "text": [
      "Redpitaya:\n",
      "\tparameter        value\n",
      "--------------------------------------------------------------------------------\n",
      "ADC1              :\tNot available (V)\n",
      "ADC2              :\tNot available (V)\n",
      "I1                :\tNot available (V)\n",
      "I1_INT            :\tNot available (V)\n",
      "I2                :\tNot available (V)\n",
      "I2_INT            :\tNot available (V)\n",
      "IDN               :\t{'vendor': 'REDPITAYA_IQ', 'model': 'INSTR2018', 'serial'...\n",
      "Q1                :\tNot available (V)\n",
      "Q1_INT            :\tNot available (V)\n",
      "Q2                :\tNot available (V)\n",
      "Q2_INT            :\tNot available (V)\n",
      "RESET             :\t{} \n",
      "data_output       :\tNone \n",
      "data_size         :\t1250 \n",
      "decimation_filter :\t0 \n",
      "format_output     :\tNone \n",
      "freq_filter       :\t2e+06 (Hz)\n",
      "length_time       :\tNone \n",
      "mode_output       :\tADC \n",
      "nb_measure        :\tNone \n",
      "period            :\t0.04 (s)\n",
      "pulse_axis        :\tNone (NA)\n",
      "pulse_zero        :\tNone \n",
      "start_ADC         :\t0 (s)\n",
      "status            :\tNone \n",
      "stop_ADC          :\t1e-05 (s)\n",
      "stop_DAC          :\t6.5536e-05 (s)\n",
      "time_axis         :\tNone (s)\n",
      "timeout           :\t5 (s)\n"
     ]
    }
   ],
   "source": [
    "RP.print_readable_snapshot(update=False)"
   ]
  },
  {
   "cell_type": "markdown",
   "metadata": {},
   "source": [
    "## Reset"
   ]
  },
  {
   "cell_type": "markdown",
   "metadata": {},
   "source": [
    "Here we just reset most of the parameters to avoid errors."
   ]
  },
  {
   "cell_type": "code",
   "execution_count": 8,
   "metadata": {},
   "outputs": [
    {
     "data": {
      "text/plain": [
       "'{}'"
      ]
     },
     "execution_count": 8,
     "metadata": {},
     "output_type": "execute_result"
    }
   ],
   "source": [
    "#Reset of the data_output\n",
    "RP.RESET()"
   ]
  },
  {
   "cell_type": "code",
   "execution_count": 9,
   "metadata": {},
   "outputs": [
    {
     "data": {
      "text/plain": [
       "0.0"
      ]
     },
     "execution_count": 9,
     "metadata": {},
     "output_type": "execute_result"
    }
   ],
   "source": [
    "#Just to ensure we are not generating any signal from the redpitaya\n",
    "RP.stop_DAC(0)\n",
    "RP.stop_DAC()"
   ]
  },
  {
   "cell_type": "code",
   "execution_count": 10,
   "metadata": {},
   "outputs": [],
   "source": [
    "#We reset all the look-up tables\n",
    "RP.reset_LUT()"
   ]
  },
  {
   "cell_type": "markdown",
   "metadata": {},
   "source": [
    "## Parameter initialization"
   ]
  },
  {
   "cell_type": "markdown",
   "metadata": {},
   "source": [
    "### Microwave source"
   ]
  },
  {
   "cell_type": "code",
   "execution_count": 11,
   "metadata": {},
   "outputs": [
    {
     "data": {
      "text/plain": [
       "'on'"
      ]
     },
     "execution_count": 11,
     "metadata": {},
     "output_type": "execute_result"
    }
   ],
   "source": [
    "#Pump frequency\n",
    "w_p = 5e9 #Hz\n",
    "\n",
    "#Intermediate frequency\n",
    "w_if = 30e6\n",
    "\n",
    "#Local oscillator frequency\n",
    "w_lo = w_p - w_if\n",
    "\n",
    "#Power\n",
    "\n",
    "Pow = 5 #dBm\n",
    "\n",
    "#Phase\n",
    "\n",
    "phase = 0\n",
    "\n",
    "#Individually uncomment the commands below to check the values.\n",
    "\n",
    "MW_source.frequency(w_lo)#In Hz\n",
    "#MW_source.frequency()\n",
    "\n",
    "MW_source.power(Pow)#In dBm\n",
    "#MW_source.power()\n",
    "\n",
    "MW_source.phase(phase)\n",
    "#MW_source.phase()\n",
    "\n",
    "MW_source.status('on')\n",
    "#MW_source.status('off')\n",
    "MW_source.status()"
   ]
  },
  {
   "cell_type": "code",
   "execution_count": 12,
   "metadata": {},
   "outputs": [
    {
     "name": "stdout",
     "output_type": "stream",
     "text": [
      "0.04 s\n"
     ]
    }
   ],
   "source": [
    "#If we call RP.nb_measure(N) before this, it doesn't work.\n",
    "\n",
    "t = 0.04 #Pulse period\n",
    "\n",
    "RP.period(t) # maximum period is 1 s\n",
    "type(RP.period())\n",
    "\n",
    "print (RP.period(), 's')"
   ]
  },
  {
   "cell_type": "markdown",
   "metadata": {},
   "source": [
    "### Acquisition parameters"
   ]
  },
  {
   "cell_type": "code",
   "execution_count": 13,
   "metadata": {},
   "outputs": [
    {
     "name": "stdout",
     "output_type": "stream",
     "text": [
      "# of pulses 10000\n"
     ]
    }
   ],
   "source": [
    "# RP.status('stop')\n",
    "# sleep(2)\n",
    "# RP.status('start')\n",
    "# sleep(2)\n",
    "\n",
    "t_init = 0#300e-9\n",
    "t_final = 10e-6\n",
    "\n",
    "T = int(round(t_final/8e-9))-int(round(t_init/8e-9))\n",
    "\n",
    "N_Pulse = 10000\n",
    "\n",
    "RP.nb_measure(N_Pulse)\n",
    "print('# of pulses',int(RP.nb_measure()))\n",
    "\n",
    "RP.freq_filter(2e6)\n",
    "\n",
    "# mode = 'ADC'\n",
    "# RP.mode_output(mode)#('IQCH2')#'ADC', 'IQINT' , 'IQLP1'\n",
    "# RP.mode_output()\n",
    "\n",
    "RP.start_ADC(t_init)\n",
    "RP.stop_ADC(t_final)\n",
    "\n",
    "\n",
    "RP.format_output('ASCII')"
   ]
  },
  {
   "cell_type": "code",
   "execution_count": 14,
   "metadata": {},
   "outputs": [
    {
     "data": {
      "text/plain": [
       "'ERR!ERR!ERR!ERR!ERR!ADC'"
      ]
     },
     "execution_count": 14,
     "metadata": {},
     "output_type": "execute_result"
    }
   ],
   "source": [
    "mode = 'ADC'\n",
    "RP.mode_output(mode)#('IQCH2')#'ADC', 'IQINT' , 'IQLP1'\n",
    "RP.mode_output()\n",
    "\n",
    "#RP.data_output()"
   ]
  },
  {
   "cell_type": "code",
   "execution_count": null,
   "metadata": {},
   "outputs": [],
   "source": []
  },
  {
   "cell_type": "code",
   "execution_count": 15,
   "metadata": {},
   "outputs": [
    {
     "data": {
      "text/plain": [
       "0"
      ]
     },
     "execution_count": 15,
     "metadata": {},
     "output_type": "execute_result"
    }
   ],
   "source": [
    "#To be modified in the future\n",
    "RP.pulse_zero(0)\n",
    "RP.pulse_zero()"
   ]
  },
  {
   "cell_type": "code",
   "execution_count": 16,
   "metadata": {},
   "outputs": [
    {
     "data": {
      "text/plain": [
       "12500000"
      ]
     },
     "execution_count": 16,
     "metadata": {},
     "output_type": "execute_result"
    }
   ],
   "source": [
    "RP.length_time(T*N_Pulse)\n",
    "RP.length_time()"
   ]
  },
  {
   "cell_type": "code",
   "execution_count": 17,
   "metadata": {},
   "outputs": [
    {
     "data": {
      "text/plain": [
       "array([0.00000000e+00, 1.00000008e+00, 2.00000016e+00, ...,\n",
       "       1.24999980e+07, 1.24999990e+07, 1.25000000e+07])"
      ]
     },
     "execution_count": 17,
     "metadata": {},
     "output_type": "execute_result"
    }
   ],
   "source": [
    "RP.time_axis()"
   ]
  },
  {
   "cell_type": "code",
   "execution_count": 18,
   "metadata": {},
   "outputs": [
    {
     "data": {
      "text/plain": [
       "'ERR!ERR!ERR!ERR!ERR!ERR!ERR!ERR!ERR!{}'"
      ]
     },
     "execution_count": 18,
     "metadata": {},
     "output_type": "execute_result"
    }
   ],
   "source": [
    "RP.RESET()"
   ]
  },
  {
   "cell_type": "code",
   "execution_count": 19,
   "metadata": {},
   "outputs": [],
   "source": [
    "#RP.ADC1()"
   ]
  },
  {
   "cell_type": "code",
   "execution_count": null,
   "metadata": {},
   "outputs": [],
   "source": []
  },
  {
   "cell_type": "code",
   "execution_count": null,
   "metadata": {},
   "outputs": [],
   "source": []
  },
  {
   "cell_type": "code",
   "execution_count": 20,
   "metadata": {
    "scrolled": false
   },
   "outputs": [
    {
     "name": "stdout",
     "output_type": "stream",
     "text": [
      "Starting experimental run with id: 1. \n",
      "10000 pulses. Mode: ADC\n",
      "Time elapsed :  492.2476511001587\n"
     ]
    }
   ],
   "source": [
    "#Create an experiment and save data \n",
    "t0 = time.time()\n",
    "###################################################### Experiment\n",
    "exp_name = 'Acquire_ADC_CH1 '\n",
    "sample_name = 'w_p:' + str(w_p) + '-' + 'w_if:' + str(w_if) + '-' + 'Pow:' + str(Pow) + '-' + 'Phase:' + str(phase) + '-' + 'Period:' + str(t) + '-' + 'IntLimit:' + str(t_init) + '_' + str(t_final) + '-' + 'N_Pulse:' + str(N_Pulse)\n",
    "exp=qc.load_or_create_experiment(experiment_name=exp_name, sample_name=sample_name)\n",
    "##############################################################\n",
    "\n",
    "\n",
    "# mode = 'ADC'\n",
    "# RP.mode_output(mode)\n",
    "#time.sleep(0.2)\n",
    "#meas = qc.Measurement(exp=exp, station=station)\n",
    "#meas.register_parameter(vna.channels.S21.trace_mag_phase)\n",
    "\n",
    "\n",
    "meas = qc.Measurement(exp=exp, station=station)\n",
    "meas.register_parameter(RP.ADC1)\n",
    "mode = 'ADC'\n",
    "RP.mode_output(mode)\n",
    "with meas.run() as datasaver:\n",
    "    datasaver.add_result((RP.time_axis, RP.time_axis()),\n",
    "                         (RP.ADC1, RP.ADC1()))\n",
    "dataset = datasaver.dataset\n",
    "\n",
    "t1 = time.time()\n",
    "\n",
    "print('Time elapsed : ', t1-t0)"
   ]
  },
  {
   "cell_type": "code",
   "execution_count": 21,
   "metadata": {},
   "outputs": [],
   "source": [
    "dataset.add_metadata('w_p',w_p)\n",
    "dataset.add_metadata('w_if',w_if)\n",
    "dataset.add_metadata('pow',Pow)\n",
    "dataset.add_metadata('phase',phase)\n",
    "dataset.add_metadata('Period',t)\n",
    "dataset.add_metadata('t_init',t_init)\n",
    "dataset.add_metadata('t_final',t_final)\n",
    "dataset.add_metadata('N_Pulse',N_Pulse)"
   ]
  },
  {
   "cell_type": "code",
   "execution_count": null,
   "metadata": {},
   "outputs": [],
   "source": []
  }
 ],
 "metadata": {
  "kernelspec": {
   "display_name": "Python 3",
   "language": "python",
   "name": "python3"
  },
  "language_info": {
   "codemirror_mode": {
    "name": "ipython",
    "version": 3
   },
   "file_extension": ".py",
   "mimetype": "text/x-python",
   "name": "python",
   "nbconvert_exporter": "python",
   "pygments_lexer": "ipython3",
   "version": "3.7.4"
  }
 },
 "nbformat": 4,
 "nbformat_minor": 2
}
